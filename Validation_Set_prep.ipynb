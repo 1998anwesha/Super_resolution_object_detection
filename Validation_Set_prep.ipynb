{
 "cells": [
  {
   "cell_type": "code",
   "execution_count": 21,
   "id": "26941905-611d-439c-ad1d-1df05901f350",
   "metadata": {},
   "outputs": [],
   "source": [
    "import pandas as pd\n",
    "import glob\n",
    "from shutil import copyfile, copytree\n",
    "from PIL import Image, ImageFilter,  ImageOps\n",
    "import os\n",
    "from random import randrange\n",
    "import matplotlib.pyplot as plt\n",
    "import numpy as np\n",
    "from skimage.metrics import peak_signal_noise_ratio as psnr\n",
    "from skimage.metrics import structural_similarity as ssim"
   ]
  },
  {
   "cell_type": "code",
   "execution_count": 14,
   "id": "bf6d5626-0fd6-405d-924f-4c642ba066ef",
   "metadata": {},
   "outputs": [],
   "source": [
    "\"\"\"\n",
    "Read label and extract GSD\n",
    "\"\"\"\n",
    "files = glob.glob(\"valid_labels/labels/*.txt\") #glob.glob(\"dataset/train/labelTxt/*.txt\")\n",
    "GSD = []\n",
    "file_name = []\n",
    "for file in files:\n",
    "    with open(file, 'r') as f:\n",
    "        file_name.append(file.split('\\\\')[-1])\n",
    "        f.readline() # ignore first line\n",
    "        txt = f.readline()\n",
    "        if \"null\" not in txt:\n",
    "            GSD.append(float(txt[4:-1]))\n",
    "        else:\n",
    "            GSD.append(0.0)"
   ]
  },
  {
   "cell_type": "code",
   "execution_count": 15,
   "id": "47b6b351-24f6-4b03-9073-e2133bbc02e7",
   "metadata": {},
   "outputs": [
    {
     "data": {
      "text/html": [
       "<div>\n",
       "<style scoped>\n",
       "    .dataframe tbody tr th:only-of-type {\n",
       "        vertical-align: middle;\n",
       "    }\n",
       "\n",
       "    .dataframe tbody tr th {\n",
       "        vertical-align: top;\n",
       "    }\n",
       "\n",
       "    .dataframe thead th {\n",
       "        text-align: right;\n",
       "    }\n",
       "</style>\n",
       "<table border=\"1\" class=\"dataframe\">\n",
       "  <thead>\n",
       "    <tr style=\"text-align: right;\">\n",
       "      <th></th>\n",
       "      <th>GSD</th>\n",
       "    </tr>\n",
       "  </thead>\n",
       "  <tbody>\n",
       "    <tr>\n",
       "      <th>count</th>\n",
       "      <td>458.000000</td>\n",
       "    </tr>\n",
       "    <tr>\n",
       "      <th>mean</th>\n",
       "      <td>0.391985</td>\n",
       "    </tr>\n",
       "    <tr>\n",
       "      <th>std</th>\n",
       "      <td>0.366310</td>\n",
       "    </tr>\n",
       "    <tr>\n",
       "      <th>min</th>\n",
       "      <td>0.000000</td>\n",
       "    </tr>\n",
       "    <tr>\n",
       "      <th>25%</th>\n",
       "      <td>0.132483</td>\n",
       "    </tr>\n",
       "    <tr>\n",
       "      <th>50%</th>\n",
       "      <td>0.258030</td>\n",
       "    </tr>\n",
       "    <tr>\n",
       "      <th>75%</th>\n",
       "      <td>0.573301</td>\n",
       "    </tr>\n",
       "    <tr>\n",
       "      <th>max</th>\n",
       "      <td>2.246316</td>\n",
       "    </tr>\n",
       "  </tbody>\n",
       "</table>\n",
       "</div>"
      ],
      "text/plain": [
       "              GSD\n",
       "count  458.000000\n",
       "mean     0.391985\n",
       "std      0.366310\n",
       "min      0.000000\n",
       "25%      0.132483\n",
       "50%      0.258030\n",
       "75%      0.573301\n",
       "max      2.246316"
      ]
     },
     "execution_count": 15,
     "metadata": {},
     "output_type": "execute_result"
    }
   ],
   "source": [
    "\"\"\"\n",
    "Create pandas DataFrame for visualization\n",
    "\"\"\"\n",
    "df = pd.DataFrame({'filename': file_name, 'GSD': GSD})\n",
    "df.describe()"
   ]
  },
  {
   "cell_type": "code",
   "execution_count": 16,
   "id": "3d21fd16-1cae-44d7-9198-f89ec70e53e4",
   "metadata": {},
   "outputs": [
    {
     "data": {
      "text/plain": [
       "<Axes: ylabel='Frequency'>"
      ]
     },
     "execution_count": 16,
     "metadata": {},
     "output_type": "execute_result"
    },
    {
     "data": {
      "image/png": "[encoded data removed]",
      "text/plain": [
       "<Figure size 640x480 with 1 Axes>"
      ]
     },
     "metadata": {},
     "output_type": "display_data"
    }
   ],
   "source": [
    "df.plot.hist(bins=50)"
   ]
  },
  {
   "cell_type": "code",
   "execution_count": 17,
   "id": "43fc5d8c-8a0f-4a36-8a9e-6e7417e5c162",
   "metadata": {},
   "outputs": [
    {
     "data": {
      "text/plain": [
       "<Axes: ylabel='Frequency'>"
      ]
     },
     "execution_count": 17,
     "metadata": {},
     "output_type": "execute_result"
    },
    {
     "data": {
      "image/png": "[encoded data removed]",
      "text/plain": [
       "<Figure size 640x480 with 1 Axes>"
      ]
     },
     "metadata": {},
     "output_type": "display_data"
    }
   ],
   "source": [
    "\"\"\"\n",
    "Identify the images whose GSD is between 0 and 1.15 to have images with similar height\n",
    "\"\"\"\n",
    "df1 = df[df['GSD'] < 1.5]\n",
    "df2 = df1[df1['GSD'] > 0]\n",
    "df2.plot.hist(bins=10)"
   ]
  },
  {
   "cell_type": "code",
   "execution_count": 18,
   "id": "659ac728-17a0-48a6-b548-7ede008ecac5",
   "metadata": {},
   "outputs": [
    {
     "data": {
      "text/html": [
       "<div>\n",
       "<style scoped>\n",
       "    .dataframe tbody tr th:only-of-type {\n",
       "        vertical-align: middle;\n",
       "    }\n",
       "\n",
       "    .dataframe tbody tr th {\n",
       "        vertical-align: top;\n",
       "    }\n",
       "\n",
       "    .dataframe thead th {\n",
       "        text-align: right;\n",
       "    }\n",
       "</style>\n",
       "<table border=\"1\" class=\"dataframe\">\n",
       "  <thead>\n",
       "    <tr style=\"text-align: right;\">\n",
       "      <th></th>\n",
       "      <th>GSD</th>\n",
       "    </tr>\n",
       "  </thead>\n",
       "  <tbody>\n",
       "    <tr>\n",
       "      <th>count</th>\n",
       "      <td>452.000000</td>\n",
       "    </tr>\n",
       "    <tr>\n",
       "      <th>mean</th>\n",
       "      <td>0.372401</td>\n",
       "    </tr>\n",
       "    <tr>\n",
       "      <th>std</th>\n",
       "      <td>0.312005</td>\n",
       "    </tr>\n",
       "    <tr>\n",
       "      <th>min</th>\n",
       "      <td>0.000001</td>\n",
       "    </tr>\n",
       "    <tr>\n",
       "      <th>25%</th>\n",
       "      <td>0.132358</td>\n",
       "    </tr>\n",
       "    <tr>\n",
       "      <th>50%</th>\n",
       "      <td>0.256553</td>\n",
       "    </tr>\n",
       "    <tr>\n",
       "      <th>75%</th>\n",
       "      <td>0.565680</td>\n",
       "    </tr>\n",
       "    <tr>\n",
       "      <th>max</th>\n",
       "      <td>1.182955</td>\n",
       "    </tr>\n",
       "  </tbody>\n",
       "</table>\n",
       "</div>"
      ],
      "text/plain": [
       "              GSD\n",
       "count  452.000000\n",
       "mean     0.372401\n",
       "std      0.312005\n",
       "min      0.000001\n",
       "25%      0.132358\n",
       "50%      0.256553\n",
       "75%      0.565680\n",
       "max      1.182955"
      ]
     },
     "execution_count": 18,
     "metadata": {},
     "output_type": "execute_result"
    }
   ],
   "source": [
    "df2.describe()"
   ]
  },
  {
   "cell_type": "code",
   "execution_count": 19,
   "id": "70f1649e-6706-4437-a9b2-e27dbe03eae8",
   "metadata": {},
   "outputs": [],
   "source": [
    "\"\"\"\n",
    "Extract image and labels that are meeting the criteria above.\n",
    "\"\"\"\n",
    "for index, row in df2.iterrows():\n",
    "    copyfile('valid/images/'+row['filename'].replace('txt', 'png'), 'valid/images_stage1/'+row['filename'].replace('txt', 'png'))\n",
    "    copyfile('valid_labels/labels/'+row['filename'], 'valid_labels/labels_stage1/'+row['filename'])"
   ]
  },
  {
   "cell_type": "code",
   "execution_count": 20,
   "id": "d2a7e8a3-4e42-4392-a7b4-6fe1f951d4f1",
   "metadata": {},
   "outputs": [
    {
     "data": {
      "text/html": [
       "<div>\n",
       "<style scoped>\n",
       "    .dataframe tbody tr th:only-of-type {\n",
       "        vertical-align: middle;\n",
       "    }\n",
       "\n",
       "    .dataframe tbody tr th {\n",
       "        vertical-align: top;\n",
       "    }\n",
       "\n",
       "    .dataframe thead th {\n",
       "        text-align: right;\n",
       "    }\n",
       "</style>\n",
       "<table border=\"1\" class=\"dataframe\">\n",
       "  <thead>\n",
       "    <tr style=\"text-align: right;\">\n",
       "      <th></th>\n",
       "      <th>filename</th>\n",
       "      <th>GSD</th>\n",
       "    </tr>\n",
       "  </thead>\n",
       "  <tbody>\n",
       "    <tr>\n",
       "      <th>0</th>\n",
       "      <td>P0003.txt</td>\n",
       "      <td>0.115727</td>\n",
       "    </tr>\n",
       "    <tr>\n",
       "      <th>1</th>\n",
       "      <td>P0004.txt</td>\n",
       "      <td>0.132460</td>\n",
       "    </tr>\n",
       "    <tr>\n",
       "      <th>2</th>\n",
       "      <td>P0007.txt</td>\n",
       "      <td>0.127603</td>\n",
       "    </tr>\n",
       "    <tr>\n",
       "      <th>3</th>\n",
       "      <td>P0019.txt</td>\n",
       "      <td>0.108079</td>\n",
       "    </tr>\n",
       "    <tr>\n",
       "      <th>4</th>\n",
       "      <td>P0027.txt</td>\n",
       "      <td>0.223672</td>\n",
       "    </tr>\n",
       "    <tr>\n",
       "      <th>...</th>\n",
       "      <td>...</td>\n",
       "      <td>...</td>\n",
       "    </tr>\n",
       "    <tr>\n",
       "      <th>453</th>\n",
       "      <td>P2781.txt</td>\n",
       "      <td>0.105969</td>\n",
       "    </tr>\n",
       "    <tr>\n",
       "      <th>454</th>\n",
       "      <td>P2789.txt</td>\n",
       "      <td>0.102933</td>\n",
       "    </tr>\n",
       "    <tr>\n",
       "      <th>455</th>\n",
       "      <td>P2791.txt</td>\n",
       "      <td>0.217856</td>\n",
       "    </tr>\n",
       "    <tr>\n",
       "      <th>456</th>\n",
       "      <td>P2794.txt</td>\n",
       "      <td>0.104174</td>\n",
       "    </tr>\n",
       "    <tr>\n",
       "      <th>457</th>\n",
       "      <td>P2802.txt</td>\n",
       "      <td>0.218874</td>\n",
       "    </tr>\n",
       "  </tbody>\n",
       "</table>\n",
       "<p>452 rows × 2 columns</p>\n",
       "</div>"
      ],
      "text/plain": [
       "      filename       GSD\n",
       "0    P0003.txt  0.115727\n",
       "1    P0004.txt  0.132460\n",
       "2    P0007.txt  0.127603\n",
       "3    P0019.txt  0.108079\n",
       "4    P0027.txt  0.223672\n",
       "..         ...       ...\n",
       "453  P2781.txt  0.105969\n",
       "454  P2789.txt  0.102933\n",
       "455  P2791.txt  0.217856\n",
       "456  P2794.txt  0.104174\n",
       "457  P2802.txt  0.218874\n",
       "\n",
       "[452 rows x 2 columns]"
      ]
     },
     "execution_count": 20,
     "metadata": {},
     "output_type": "execute_result"
    }
   ],
   "source": [
    "df2"
   ]
  },
  {
   "cell_type": "markdown",
   "id": "92c8c8aa-1e32-49b9-8243-b4217c9672a1",
   "metadata": {},
   "source": [
    "# Maintain res of 1024x1024 across all images"
   ]
  },
  {
   "cell_type": "code",
   "execution_count": 22,
   "id": "3bf8175c-82ea-4e5d-84eb-1d9cc8354030",
   "metadata": {},
   "outputs": [],
   "source": [
    "def preprocess_and_crop(path, file, target_res, height, width):\n",
    "    \"\"\"\n",
    "    Preprocess images to a uniform resolution, then crop into patches.\n",
    "    \"\"\"\n",
    "    # Open image\n",
    "    im = Image.open(file)\n",
    "    filename = os.path.splitext(os.path.basename(file))[0]\n",
    "    \n",
    "    # Rescale to target resolution\n",
    "    im = ImageOps.fit(im, (target_res, target_res), method=Image.Resampling.LANCZOS)\n",
    "    \n",
    "    imgwidth, imgheight = im.size\n",
    "    k = 0\n",
    "\n",
    "    # Perform cropping\n",
    "    for i in range(0, imgheight, height):\n",
    "        for j in range(0, imgwidth, width):\n",
    "            box = (j, i, j+width, i+height)\n",
    "            cropped = im.crop(box)\n",
    "            \n",
    "            # Ensure final crop size matches desired dimensions\n",
    "            if cropped.size != (width, height):\n",
    "                cropped = ImageOps.pad(cropped, (width, height), color=(0, 0, 0))  # Black padding\n",
    "            \n",
    "            # Save cropped image\n",
    "            cropped.save(os.path.join(path, f\"{filename}-{k}.png\"))\n",
    "            k += 1\n",
    "\n",
    "# Example usage\n",
    "images_st1 = glob.glob(\"valid/images_stage1/*.png\")\n",
    "output_path = \"valid/images_stage2\"\n",
    "target_resolution = 2048  # Rescale all images to 4096x4096\n",
    "crop_height = 1024\n",
    "crop_width = 1024\n",
    "\n",
    "os.makedirs(output_path, exist_ok=True)\n",
    "for img in images_st1:\n",
    "    preprocess_and_crop(output_path, img, target_resolution, crop_height, crop_width)\n"
   ]
  },
  {
   "cell_type": "code",
   "execution_count": 23,
   "id": "b7bb670b-1ea2-4fef-b79f-0fec5f9919e0",
   "metadata": {},
   "outputs": [
    {
     "data": {
      "text/plain": [
       "'valid/images_stage3'"
      ]
     },
     "execution_count": 23,
     "metadata": {},
     "output_type": "execute_result"
    }
   ],
   "source": [
    "\"\"\"\n",
    "Go through image and remove images where black area is included\n",
    "We consider image are invalid if any 4 corner of image is black\n",
    "\"\"\"\n",
    "import shutil\n",
    "\n",
    "# Remove the directory if it exists\n",
    "if os.path.exists('valid/images_stage3'):\n",
    "    shutil.rmtree('valid/images_stage3')\n",
    "\n",
    "# Copy the directory\n",
    "shutil.copytree('valid/images_stage2', 'valid/images_stage3')"
   ]
  },
  {
   "cell_type": "markdown",
   "id": "66563ae9-1014-4af1-9b9f-e9bc6d53b4aa",
   "metadata": {},
   "source": [
    "## If the four corner pixels are black/nearly black, the image file is deleted using os.remove(img)."
   ]
  },
  {
   "cell_type": "code",
   "execution_count": 25,
   "id": "3d0830e0-f59b-4211-8597-788da88e866c",
   "metadata": {},
   "outputs": [],
   "source": [
    "images_st3 = glob.glob(\"valid/images_stage3/*.png\")\n",
    "for img in images_st3:\n",
    "    image = Image.open(img)\n",
    "    width, height = image.size\n",
    "    loc = ((0,0), (width-1,0), (0,height-1), (width-1,height-1))\n",
    "    for x,y in loc:\n",
    "        try:\n",
    "            if sum(image.getpixel((x, y))) < 5:\n",
    "                os.remove(img)\n",
    "        except:\n",
    "            continue\n",
    "        break"
   ]
  },
  {
   "cell_type": "markdown",
   "id": "01a5aeca-7832-4963-90e0-c39ea3065e3a",
   "metadata": {},
   "source": [
    "# Create low resolution input images for traing Superresolution networks"
   ]
  },
  {
   "cell_type": "code",
   "execution_count": 27,
   "id": "6e9058de-df62-4f8d-9a45-d99440ff916e",
   "metadata": {},
   "outputs": [],
   "source": [
    "\"\"\"\n",
    "Create low resolution input 256x256\n",
    "Also, create 1024 low res image with bicubic\n",
    "\"\"\"\n",
    "images_st3 = glob.glob(\"valid/images_stage3/*.png\")\n",
    "resample_method = [Image.BICUBIC, Image.NEAREST, Image.BOX, Image.BILINEAR, Image.HAMMING]\n",
    "for img in images_st3:\n",
    "    image = Image.open(img)\n",
    "    reduced_img = image.resize((256,256), resample=resample_method[randrange(5)])\n",
    "    reduced_img.save(img.replace('images_stage3', 'images_stage5'))\n",
    "\n",
    "    upsample_img = reduced_img.resize((1024,1024), resample=Image.BICUBIC)\n",
    "    upsample_img.save(img.replace('images_stage3', 'images_stage4'))"
   ]
  },
  {
   "cell_type": "code",
   "execution_count": null,
   "id": "de6b934a-58b6-4fd9-8f0b-87afa2f01214",
   "metadata": {},
   "outputs": [],
   "source": []
  }
 ],
 "metadata": {
  "kernelspec": {
   "display_name": "Python 3 (ipykernel)",
   "language": "python",
   "name": "python3"
  },
  "language_info": {
   "codemirror_mode": {
    "name": "ipython",
    "version": 3
   },
   "file_extension": ".py",
   "mimetype": "text/x-python",
   "name": "python",
   "nbconvert_exporter": "python",
   "pygments_lexer": "ipython3",
   "version": "3.11.10"
  }
 },
 "nbformat": 4,
 "nbformat_minor": 5
}
